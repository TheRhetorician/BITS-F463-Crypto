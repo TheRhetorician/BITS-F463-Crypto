{
 "cells": [
  {
   "cell_type": "markdown",
   "metadata": {},
   "source": [
    "#### Importing libraries"
   ]
  },
  {
   "cell_type": "code",
   "execution_count": 1,
   "metadata": {},
   "outputs": [],
   "source": [
    "import numpy as np\n",
    "import pandas as pd\n",
    "import matplotlib.pyplot as plt"
   ]
  },
  {
   "cell_type": "markdown",
   "metadata": {},
   "source": [
    "#### Adding Dataset Path"
   ]
  },
  {
   "cell_type": "code",
   "execution_count": 2,
   "metadata": {},
   "outputs": [],
   "source": [
    "DATASET_PATH = [\n",
    "    './a1_data/a1_d1.csv',\n",
    "    './a1_data/a1_d2.csv'\n",
    "]"
   ]
  },
  {
   "cell_type": "code",
   "execution_count": 3,
   "metadata": {},
   "outputs": [
    {
     "name": "stdout",
     "output_type": "stream",
     "text": [
      "Choose Dataset number --  0\n"
     ]
    }
   ],
   "source": [
    "index = int(input(\"Choose Dataset number --  \"))"
   ]
  },
  {
   "cell_type": "code",
   "execution_count": 4,
   "metadata": {},
   "outputs": [
    {
     "data": {
      "text/html": [
       "<div>\n",
       "<style scoped>\n",
       "    .dataframe tbody tr th:only-of-type {\n",
       "        vertical-align: middle;\n",
       "    }\n",
       "\n",
       "    .dataframe tbody tr th {\n",
       "        vertical-align: top;\n",
       "    }\n",
       "\n",
       "    .dataframe thead th {\n",
       "        text-align: right;\n",
       "    }\n",
       "</style>\n",
       "<table border=\"1\" class=\"dataframe\">\n",
       "  <thead>\n",
       "    <tr style=\"text-align: right;\">\n",
       "      <th></th>\n",
       "      <th>x1</th>\n",
       "      <th>x2</th>\n",
       "      <th>y</th>\n",
       "    </tr>\n",
       "  </thead>\n",
       "  <tbody>\n",
       "    <tr>\n",
       "      <td>0</td>\n",
       "      <td>-0.598283</td>\n",
       "      <td>1.023534</td>\n",
       "      <td>1</td>\n",
       "    </tr>\n",
       "    <tr>\n",
       "      <td>1</td>\n",
       "      <td>1.115929</td>\n",
       "      <td>0.512127</td>\n",
       "      <td>1</td>\n",
       "    </tr>\n",
       "    <tr>\n",
       "      <td>2</td>\n",
       "      <td>1.169815</td>\n",
       "      <td>-1.072747</td>\n",
       "      <td>0</td>\n",
       "    </tr>\n",
       "    <tr>\n",
       "      <td>3</td>\n",
       "      <td>0.631926</td>\n",
       "      <td>-0.255663</td>\n",
       "      <td>0</td>\n",
       "    </tr>\n",
       "    <tr>\n",
       "      <td>4</td>\n",
       "      <td>0.052532</td>\n",
       "      <td>1.198445</td>\n",
       "      <td>1</td>\n",
       "    </tr>\n",
       "  </tbody>\n",
       "</table>\n",
       "</div>"
      ],
      "text/plain": [
       "         x1        x2  y\n",
       "0 -0.598283  1.023534  1\n",
       "1  1.115929  0.512127  1\n",
       "2  1.169815 -1.072747  0\n",
       "3  0.631926 -0.255663  0\n",
       "4  0.052532  1.198445  1"
      ]
     },
     "execution_count": 4,
     "metadata": {},
     "output_type": "execute_result"
    }
   ],
   "source": [
    "df = pd.read_csv(DATASET_PATH[index])\n",
    "df.head()"
   ]
  },
  {
   "cell_type": "markdown",
   "metadata": {},
   "source": [
    "#### Training set and Testing set split"
   ]
  },
  {
   "cell_type": "code",
   "execution_count": 5,
   "metadata": {},
   "outputs": [
    {
     "name": "stdout",
     "output_type": "stream",
     "text": [
      "           x1        x2  y\n",
      "581 -0.180133 -1.539165  0\n",
      "718  1.066927 -1.465230  0\n",
      "103  0.821145 -0.959446  0\n",
      "529 -0.879852 -1.185888  0\n",
      "7   -0.233013  1.099207  1\n",
      "           x1        x2  y\n",
      "146  1.097654  0.746275  1\n",
      "894  0.499346 -0.953047  0\n",
      "579  1.128638 -1.295676  0\n",
      "703  1.640016  0.325307  1\n",
      "904 -1.085891  0.831732  1\n",
      "1000\n"
     ]
    }
   ],
   "source": [
    "shuffle_df = df.sample(frac=1)\n",
    "train_size = int(0.8 * len(df))\n",
    "train_set = shuffle_df[:train_size]\n",
    "test_set = shuffle_df[train_size:]\n",
    "print(test_set.head())\n",
    "print(train_set.head())\n",
    "print(len(df))"
   ]
  },
  {
   "cell_type": "markdown",
   "metadata": {},
   "source": [
    "### Data preparation"
   ]
  },
  {
   "cell_type": "code",
   "execution_count": 6,
   "metadata": {},
   "outputs": [
    {
     "name": "stdout",
     "output_type": "stream",
     "text": [
      "           x1        x2\n",
      "894  0.499346 -0.953047\n",
      "579  1.128638 -1.295676\n",
      "684 -0.335995 -0.905815\n",
      "847  1.144707 -0.643601\n",
      "182 -0.686791 -1.472627\n",
      "           x1        x2\n",
      "146  1.097654  0.746275\n",
      "703  1.640016  0.325307\n",
      "904 -1.085891  0.831732\n",
      "258  0.227797  1.424134\n",
      "800 -0.212960  1.919713\n"
     ]
    }
   ],
   "source": [
    "f0 = train_set[train_set['y'] == 0].iloc[:, :-1]\n",
    "f1 = train_set[train_set['y'] > 0].iloc[:, :-1]\n",
    "\n",
    "print(f0.head());\n",
    "print(f1.head());"
   ]
  },
  {
   "cell_type": "code",
   "execution_count": 7,
   "metadata": {},
   "outputs": [
    {
     "name": "stdout",
     "output_type": "stream",
     "text": [
      "Positive Class Mean - x1    0.016466\n",
      "x2    0.983595\n",
      "dtype: float64   Negative Class Mean - x1   -0.012468\n",
      "x2   -0.994209\n",
      "dtype: float64\n",
      "Positive class std - x1    0.983876\n",
      "x2    0.460375\n",
      "dtype: float64  Negative class std - x1    0.933335\n",
      "x2    0.330138\n",
      "dtype: float64\n"
     ]
    }
   ],
   "source": [
    "mean_pos = f1.sum(axis=0) / len(f1)\n",
    "mean_neg = f0.sum(axis=0) / len(f0)\n",
    "std_pos = np.std(f1, axis=0)\n",
    "std_neg = np.std(f0, axis=0)\n",
    "print(f\"Positive Class Mean - {mean_pos}   Negative Class Mean - {mean_neg}\")\n",
    "print(f\"Positive class std - {std_pos}  Negative class std - {std_neg}\")"
   ]
  },
  {
   "cell_type": "code",
   "execution_count": 8,
   "metadata": {},
   "outputs": [
    {
     "name": "stdout",
     "output_type": "stream",
     "text": [
      "[[344.96155306  -2.64438672]\n",
      " [ -2.64438672  43.16054428]]\n",
      "[[391.07703677 -29.03851771]\n",
      " [-29.03851771  85.62589155]]\n",
      "[[736.03858984 -31.68290443]\n",
      " [-31.68290443 128.78643583]]\n"
     ]
    }
   ],
   "source": [
    "#Covariance for negative class\n",
    "temp = np.subtract(f0, mean_neg)\n",
    "s_neg = np.dot(temp.T, temp)\n",
    "print(s_neg)\n",
    "\n",
    "#Covariance for positive class\n",
    "temp = np.subtract(f1, mean_pos)\n",
    "s_pos = np.dot(temp.T, temp)\n",
    "print(s_pos)\n",
    "\n",
    "#Total within class Variance\n",
    "total_variance = np.add(s_pos, s_neg)\n",
    "print(total_variance)"
   ]
  },
  {
   "cell_type": "code",
   "execution_count": 9,
   "metadata": {},
   "outputs": [
    {
     "name": "stdout",
     "output_type": "stream",
     "text": [
      "[[736.03858984 -31.68290443]\n",
      " [-31.68290443 128.78643583]]\n",
      "[[0.00137317 0.00033781]\n",
      " [0.00033781 0.0078479 ]]\n"
     ]
    }
   ],
   "source": [
    "sw = total_variance\n",
    "sw_inv = np.linalg.pinv(sw)\n",
    "print(sw)\n",
    "print(sw_inv)"
   ]
  },
  {
   "cell_type": "code",
   "execution_count": 10,
   "metadata": {},
   "outputs": [
    {
     "name": "stdout",
     "output_type": "stream",
     "text": [
      "x1    0.028934\n",
      "x2    1.977804\n",
      "dtype: float64\n"
     ]
    }
   ],
   "source": [
    "s = mean_pos - mean_neg\n",
    "print(s)"
   ]
  },
  {
   "cell_type": "code",
   "execution_count": 11,
   "metadata": {},
   "outputs": [
    {
     "name": "stdout",
     "output_type": "stream",
     "text": [
      "(404, 2)\n",
      "(2, 1)\n"
     ]
    }
   ],
   "source": [
    "print(temp.shape)\n",
    "temp = np.expand_dims(s,1)\n",
    "print(temp.shape)"
   ]
  },
  {
   "cell_type": "code",
   "execution_count": 12,
   "metadata": {},
   "outputs": [
    {
     "name": "stdout",
     "output_type": "stream",
     "text": [
      "(2, 1)\n",
      "[[0.00070786]\n",
      " [0.01553138]]\n"
     ]
    }
   ],
   "source": [
    "w = np.dot(sw_inv, temp)\n",
    "print(w.shape)\n",
    "print(w)"
   ]
  },
  {
   "cell_type": "code",
   "execution_count": 14,
   "metadata": {},
   "outputs": [
    {
     "name": "stdout",
     "output_type": "stream",
     "text": [
      "(200, 1)\n"
     ]
    }
   ],
   "source": [
    "y = np.dot(test_set.iloc[:, :-1],w)\n",
    "y_train = np.dot(train_set.iloc[:, :-1], w)\n",
    "print(y.shape)"
   ]
  },
  {
   "cell_type": "code",
   "execution_count": 13,
   "metadata": {},
   "outputs": [
    {
     "name": "stdout",
     "output_type": "stream",
     "text": [
      "(2,)\n",
      "Optimal threshold -- (-0.0003240364471439744)\n"
     ]
    }
   ],
   "source": [
    "thres = 0\n",
    "print(mean_neg.shape)\n",
    "for m in [mean_neg, mean_pos]:\n",
    "    thres += np.dot(np.squeeze(w), m)\n",
    "thres *= 2\n",
    "print(f\"Optimal threshold -- ({thres})\")"
   ]
  },
  {
   "cell_type": "code",
   "execution_count": 16,
   "metadata": {},
   "outputs": [
    {
     "name": "stdout",
     "output_type": "stream",
     "text": [
      "(95,)\n",
      "(105,)\n"
     ]
    }
   ],
   "source": [
    "neg_points = y[y < thres]\n",
    "pos_points = y[y >= thres]\n",
    "print(neg_points.shape)\n",
    "print(pos_points.shape)"
   ]
  },
  {
   "cell_type": "code",
   "execution_count": 17,
   "metadata": {},
   "outputs": [
    {
     "name": "stdout",
     "output_type": "stream",
     "text": [
      "Accuracy: 99.5\n"
     ]
    }
   ],
   "source": [
    "predictions = [0 if pred < thres else 1 for pred in y]\n",
    "print(\"Accuracy:\",(np.sum(predictions == test_set['y']) / len(test_set)) * 100)"
   ]
  },
  {
   "cell_type": "markdown",
   "metadata": {},
   "source": [
    "### Training set data plot"
   ]
  },
  {
   "cell_type": "code",
   "execution_count": 18,
   "metadata": {},
   "outputs": [],
   "source": [
    "from scipy.stats import norm"
   ]
  },
  {
   "cell_type": "code",
   "execution_count": 19,
   "metadata": {},
   "outputs": [
    {
     "data": {
      "image/png": "[encoded data removed]",
      "text/plain": [
       "<Figure size 432x288 with 1 Axes>"
      ]
     },
     "metadata": {
      "needs_background": "light"
     },
     "output_type": "display_data"
    }
   ],
   "source": [
    "x = np.linspace(-5, 5, 5000)\n",
    "h = sorted(neg_points)\n",
    "mean = np.mean(h)\n",
    "std = np.std(h)\n",
    "fit = norm.pdf(h, mean, std)\n",
    "plt.plot(h, fit, '-o', label='negative')\n",
    "h = sorted(pos_points)\n",
    "mean = np.mean(h)\n",
    "std = np.std(h)\n",
    "fit = norm.pdf(h, mean, std)\n",
    "plt.plot(h, fit, '-o', label='Positive')\n",
    "plt.legend()\n",
    "plt.show()"
   ]
  },
  {
   "cell_type": "code",
   "execution_count": 25,
   "metadata": {},
   "outputs": [
    {
     "data": {
      "image/png": "[encoded data removed]",
      "text/plain": [
       "<Figure size 432x288 with 1 Axes>"
      ]
     },
     "metadata": {
      "needs_background": "light"
     },
     "output_type": "display_data"
    }
   ],
   "source": [
    "x = np.linspace(-0.09, 0.09, 100)\n",
    "\n",
    "h = sorted(neg_points)\n",
    "mu_h = np.mean(neg_points)\n",
    "sigma_h = np.std(neg_points)\n",
    "\n",
    "y_pdf = norm.pdf(x, mu_h, sigma_h)\n",
    "\n",
    "h = sorted(pos_points)\n",
    "mu_h = np.mean(pos_points)\n",
    "sigma_h = np.std(pos_points)\n",
    "\n",
    "y_cdf = norm.pdf(x, mu_h, sigma_h)\n",
    "\n",
    "plt.plot(x, y_pdf, label='Negative Class', c='red')\n",
    "plt.plot(x, y_cdf, label='Positive Class', c='blue')\n",
    "# plt.figure(figsize=(10,2))\n",
    "plt.scatter(neg_points,[0] * len(neg_points), c='red')\n",
    "plt.scatter(pos_points, [0] * len(pos_points), c='blue')\n",
    "plt.legend();"
   ]
  },
  {
   "cell_type": "code",
   "execution_count": 21,
   "metadata": {},
   "outputs": [
    {
     "data": {
      "image/png": "[encoded data removed]",
      "text/plain": [
       "<Figure size 720x144 with 1 Axes>"
      ]
     },
     "metadata": {
      "needs_background": "light"
     },
     "output_type": "display_data"
    }
   ],
   "source": [
    "plt.figure(figsize=(10,2))\n",
    "plt.scatter(neg_points,[0] * len(neg_points), c='red')\n",
    "plt.scatter(pos_points, [0] * len(pos_points), c='blue')\n",
    "plt.show()"
   ]
  },
  {
   "cell_type": "code",
   "execution_count": 22,
   "metadata": {},
   "outputs": [
    {
     "data": {
      "image/png": "[encoded data removed]",
      "text/plain": [
       "<Figure size 720x144 with 1 Axes>"
      ]
     },
     "metadata": {
      "needs_background": "light"
     },
     "output_type": "display_data"
    }
   ],
   "source": [
    "y_train_pos = y_train[y_train > thres]\n",
    "y_train_neg = y_train[y_train < thres]\n",
    "\n",
    "plt.figure(figsize=(10,2))\n",
    "plt.scatter(y_train_neg,[0.01] * len(y_train_neg), c='red')\n",
    "plt.scatter(y_train_pos, [0.01] * len(y_train_pos), c='blue')\n",
    "plt.show()"
   ]
  },
  {
   "cell_type": "code",
   "execution_count": 23,
   "metadata": {},
   "outputs": [
    {
     "name": "stdout",
     "output_type": "stream",
     "text": [
      "105 1 94 0\n"
     ]
    }
   ],
   "source": [
    "tp, fp, tn, fn = 0, 0, 0, 0\n",
    "label = test_set['y'].values\n",
    "# print(y)\n",
    "for i in range(len(label)):\n",
    "    if y[i] >= thres:\n",
    "        pred = 1\n",
    "    else:\n",
    "        pred = 0\n",
    "    if label[i] == pred:\n",
    "        if label[i] == 0:\n",
    "            tn += 1\n",
    "        else:\n",
    "            tp += 1\n",
    "    else:\n",
    "        if label[i] == 0:\n",
    "            fn += 1\n",
    "        else:\n",
    "            fp += 1\n",
    "print(tp, fp, tn, fn)"
   ]
  },
  {
   "cell_type": "code",
   "execution_count": 125,
   "metadata": {},
   "outputs": [
    {
     "name": "stdout",
     "output_type": "stream",
     "text": [
      "200\n"
     ]
    }
   ],
   "source": [
    "print(len(label))"
   ]
  },
  {
   "cell_type": "code",
   "execution_count": 133,
   "metadata": {},
   "outputs": [
    {
     "name": "stdout",
     "output_type": "stream",
     "text": [
      "precision  0.9894736842105263\n",
      "recall 1.0\n",
      "f-score  0.9947089947089947\n"
     ]
    }
   ],
   "source": [
    "precision = tp / (tp + fp)\n",
    "recall = tp / (tp + fn)\n",
    "f_score = (2 * precision * recall) / (precision + recall)\n",
    "print('precision ', precision)\n",
    "print('recall', recall)\n",
    "print('f-score ', f_score)"
   ]
  },
  {
   "cell_type": "code",
   "execution_count": null,
   "metadata": {},
   "outputs": [],
   "source": []
  }
 ],
 "metadata": {
  "kernelspec": {
   "display_name": "Python 3",
   "language": "python",
   "name": "python3"
  },
  "language_info": {
   "codemirror_mode": {
    "name": "ipython",
    "version": 3
   },
   "file_extension": ".py",
   "mimetype": "text/x-python",
   "name": "python",
   "nbconvert_exporter": "python",
   "pygments_lexer": "ipython3",
   "version": "3.7.4"
  }
 },
 "nbformat": 4,
 "nbformat_minor": 2
}
